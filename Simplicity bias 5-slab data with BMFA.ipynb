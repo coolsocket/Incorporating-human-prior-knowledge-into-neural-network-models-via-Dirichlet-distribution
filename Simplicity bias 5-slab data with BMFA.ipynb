{
 "cells": [
  {
   "cell_type": "code",
   "execution_count": 1,
   "id": "2901a1b4",
   "metadata": {},
   "outputs": [],
   "source": [
    "import numpy as np\n",
    "import tensorflow as tf\n",
    "from utility_functions import *\n",
    "import matplotlib.pyplot as plt\n",
    "import seaborn as sns\n",
    "from matplotlib import cm\n",
    "from matplotlib.colors import ListedColormap, LinearSegmentedColormap"
   ]
  },
  {
   "cell_type": "code",
   "execution_count": 2,
   "id": "1ac7a725",
   "metadata": {},
   "outputs": [],
   "source": [
    "X_old,Y_old = generate_data(\n",
    "    xlim = [-1,1],\n",
    "    ylim = [-1,1], \n",
    "    n_point_per_axis = [20,10], \n",
    "    lenth_per_slab = 0.4, \n",
    "    width_per_slab = 0.2, \n",
    "    gap_to_edge_1 = [0.1,0.15],\n",
    "    gap_to_edge_2 = [0.1, 0.5],\n",
    "    n_slab1 = 3, \n",
    "    n_slab2 = 2,\n",
    ")\n",
    "Y_old = tf.cast(Y_old,'int32')\n",
    "newcolors = np.array([[0/256, 0/256, 0/256, 1],\n",
    "                   [256/256, 256/256, 256/256, 1]])\n",
    "newcmp = ListedColormap(newcolors)\n",
    "\n",
    "blockcolors = np.array([[256/256, 0/256, 0/256, 1],\n",
    "                   [0/256, 0/256, 256/256, 1]])\n",
    "blockcmp = ListedColormap(blockcolors)\n",
    "\n"
   ]
  },
  {
   "cell_type": "code",
   "execution_count": 3,
   "id": "9daf1430",
   "metadata": {},
   "outputs": [],
   "source": [
    "def create_VP2():\n",
    "    xx = np.linspace(-1,1,30)\n",
    "    yy = np.linspace(-1,1,30)\n",
    "    X1,X2 = np.meshgrid(xx,yy)\n",
    "    X1 = np.reshape(X1,[-1,1])\n",
    "    X2 = np.reshape(X2,[-1,1])\n",
    "    new_X = np.concatenate([X1,X2],axis = -1)\n",
    "\n",
    "    new_Y = np.zeros([np.shape(new_X)[0]])+2\n",
    "    return new_X, new_Y"
   ]
  },
  {
   "cell_type": "code",
   "execution_count": 4,
   "id": "88db28d4",
   "metadata": {},
   "outputs": [],
   "source": [
    "new_X, new_Y = create_VP2()\n",
    "\n",
    "X = tf.concat([X_old,new_X], axis = 0)\n",
    "Y = tf.concat([Y_old,new_Y], axis = 0)"
   ]
  },
  {
   "cell_type": "code",
   "execution_count": 11,
   "id": "78105b9a",
   "metadata": {},
   "outputs": [],
   "source": [
    "class BMF_loss(tf.keras.losses.Loss):\n",
    "    def __init__(self, coeff, beta_func = 0):\n",
    "        super().__init__()\n",
    "        self.coeff = coeff\n",
    "        self.beta_func = beta_func\n",
    "    def call(self, y_true, y_pred):\n",
    "        inp = y_true[:,1:]\n",
    "        y_true = y_true[:,0]\n",
    "        base = [1.0, 1.0, 0.0]\n",
    "        indicator = tf.gather(base, indices = tf.cast(y_true,'int32'))\n",
    "        alphas = tf.math.exp(y_pred)+1e-8\n",
    "        batch_size = tf.shape(inp)[0]\n",
    "        zer = tf.fill([batch_size,1],0.0000003)\n",
    "\n",
    "        betas = tf.ones_like(y_pred) * self.beta_func(tf.stop_gradient(inp))\n",
    "\n",
    "        a_ans = tf.gather(tf.concat([alphas,zer],axis = -1),axis=-1, indices = tf.cast(y_true,'int32'), batch_dims = 1)\n",
    "\n",
    "        a_zero = tf.math.reduce_sum(alphas,-1)\n",
    "        \n",
    "        l1_loss = indicator*(tf.math.digamma(a_ans) - tf.math.digamma(a_zero))\n",
    "\n",
    "\n",
    "        loss1 = tf.math.lgamma(a_zero) - tf.math.reduce_sum(tf.math.lgamma(alphas), -1)\n",
    "        loss2 = tf.math.reduce_sum((alphas - betas)*(tf.math.digamma(alphas) - tf.math.digamma(tf.expand_dims(a_zero,-1))),-1)\n",
    "\n",
    "        kl_loss = loss1 + loss2\n",
    "\n",
    "        loss = tf.math.reduce_mean(self.coeff*kl_loss - l1_loss)\n",
    "        return loss"
   ]
  },
  {
   "cell_type": "code",
   "execution_count": 13,
   "id": "4a3e4af6",
   "metadata": {},
   "outputs": [],
   "source": [
    "coeff = 0.3\n",
    "activation = 'relu'\n",
    "\n",
    "\n",
    "\n",
    "def prior_exp(beta_func,coeff = coeff):\n",
    "    model = tf.keras.Sequential ()\n",
    "    model.add(tf.keras.layers.Dense(50, activation=activation, use_bias=True, input_shape=(2,)))\n",
    "    model.add(tf.keras.layers.Dense(50, activation=activation ,use_bias=True,))\n",
    "    # model.add(tf.keras.layers.Dense(50, activation=activation ,use_bias=True,))\n",
    "    model.add(tf.keras.layers.Dense(2))\n",
    "    model.compile(optimizer = tf.keras.optimizers.Adam(), loss = BMF_loss(coeff = coeff, beta_func = beta_func))\n",
    "    # model.compile(optimizer = tf.keras.optimizers.Adam(), loss ='CategoricalCrossEntropy')\n",
    "\n",
    "    model.fit(X,np.append(tf.expand_dims(Y, axis = -1),X[:,:],axis = 1),epochs = 100, verbose = 0)\n",
    "    result,xx,yy = draw_prediction(model, xlim = [-1,1], ylim = [-1,1], num = [200,200])\n",
    "    # prediction = ((result[:,0]<0.9) & (0.1<result[:,0]))\n",
    "    prediction = np.argmax(result, axis = -1)\n",
    "#     plt.scatter(xx,yy, c=prediction)\n",
    "    fig = plt.figure()\n",
    "    ax1 = fig.add_subplot(111)\n",
    "    ax1.scatter(xx,yy, c=prediction, label='decision boundary',cmap = newcmp)\n",
    "    ax1.scatter(X_old[:,0],X_old[:,1], c=Y_old, label='data',  cmap = blockcmp)\n",
    "    plt.show()\n",
    "    return result"
   ]
  },
  {
   "cell_type": "markdown",
   "id": "4e826fd6",
   "metadata": {},
   "source": [
    "# With VPM"
   ]
  },
  {
   "cell_type": "code",
   "execution_count": 14,
   "id": "3e5645ec",
   "metadata": {},
   "outputs": [
    {
     "data": {
      "image/png": "[encoded data removed]",
      "text/plain": [
       "<Figure size 640x480 with 1 Axes>"
      ]
     },
     "metadata": {},
     "output_type": "display_data"
    }
   ],
   "source": [
    "def x2_direction(inp):\n",
    "    batch_size = tf.shape(inp)[0]\n",
    "    result = tf.zeros((batch_size, 2), dtype=tf.float32)\n",
    "    for i in range(batch_size):\n",
    "        x = inp[i, 1]\n",
    "        if (x<0.85 and 0.65<x) or ( x < 0.1 and -0.1 < x) or (x<-0.65 and -0.85<x):\n",
    "            result = tf.tensor_scatter_nd_update(result, [[i, 0], [i, 1]], [10.0, 0.1])\n",
    "        elif (x<0.55 and 0.35<x) or (x < -0.3 and -0.5 < x):\n",
    "            result = tf.tensor_scatter_nd_update(result, [[i, 0], [i, 1]], [0.1, 10.0])\n",
    "        else:\n",
    "            result = tf.tensor_scatter_nd_update(result, [[i, 0], [i, 1]], [0.1, 0.1])\n",
    "\n",
    "\n",
    "    return result\n",
    "    \n",
    "result = prior_exp(x2_direction)"
   ]
  },
  {
   "cell_type": "code",
   "execution_count": null,
   "id": "587675db",
   "metadata": {},
   "outputs": [],
   "source": []
  },
  {
   "cell_type": "markdown",
   "id": "989b4381",
   "metadata": {},
   "source": [
    "# Without VPM"
   ]
  },
  {
   "cell_type": "code",
   "execution_count": null,
   "id": "df0fe893",
   "metadata": {},
   "outputs": [],
   "source": []
  },
  {
   "cell_type": "code",
   "execution_count": 15,
   "id": "40988006",
   "metadata": {},
   "outputs": [],
   "source": [
    "coeff = 0.3\n",
    "activation = 'relu'\n",
    "\n",
    "\n",
    "\n",
    "def prior_exp(beta_func,coeff = coeff):\n",
    "    model = tf.keras.Sequential ()\n",
    "    model.add(tf.keras.layers.Dense(50, activation=activation, use_bias=True, input_shape=(2,)))\n",
    "    model.add(tf.keras.layers.Dense(50, activation=activation ,use_bias=True,))\n",
    "    # model.add(tf.keras.layers.Dense(50, activation=activation ,use_bias=True,))\n",
    "    model.add(tf.keras.layers.Dense(2))\n",
    "    model.compile(optimizer = tf.keras.optimizers.Adam(), loss = BMF_loss(coeff = coeff, beta_func = beta_func))\n",
    "    # model.compile(optimizer = tf.keras.optimizers.Adam(), loss ='CategoricalCrossEntropy')\n",
    "\n",
    "    model.fit(X,np.append(tf.expand_dims(Y, axis = -1),X[:,:],axis = 1),epochs = 200, verbose = 0)\n",
    "    result,xx,yy = draw_prediction(model, xlim = [-1,1], ylim = [-1,1], num = [200,200])\n",
    "    # prediction = ((result[:,0]<0.9) & (0.1<result[:,0]))\n",
    "    prediction = np.argmax(result, axis = -1)\n",
    "   \n",
    "    fig = plt.figure()\n",
    "    ax1 = fig.add_subplot(111)\n",
    "    ax1.scatter(xx,yy, c=prediction, label='decision boundary',cmap= newcmp)\n",
    "    ax1.scatter(X[:,0],X[:,1], c=Y, label='data',cmap = blockcmp)\n",
    "#     plt.legend(loc='upper left')\n",
    "#     plt.scatter(xx,yy, c=prediction)\n",
    "#     plt.scatter(X[:,0],X[:,1], c=Y)\n",
    "#     ax = sns.heatmap(tf.reshape(prediction,[200,200]))\n",
    "    plt.show()\n",
    "    return result"
   ]
  },
  {
   "cell_type": "code",
   "execution_count": 16,
   "id": "cfb30ba4",
   "metadata": {},
   "outputs": [],
   "source": [
    "class BMF_loss(tf.keras.losses.Loss):\n",
    "    def __init__(self, coeff, beta_func = 0):\n",
    "        super().__init__()\n",
    "        self.coeff = coeff\n",
    "        self.beta_func = beta_func\n",
    "    def call(self, y_true, y_pred):\n",
    "        inp = y_true[:,1:]\n",
    "        y_true = y_true[:,0]\n",
    "        alphas = tf.math.exp(y_pred) + 1e-9\n",
    "#         tf.print(alphas)\n",
    "#         tf.print(tf.shape(alphas))\n",
    "#         betas = tf.ones_like(y_pred) * 5 * inp**2\n",
    "#         betas = tf.ones_like(y_pred) * self.beta_func(tf.stop_gradient(inp))\n",
    "        betas = tf.ones_like(y_pred) * self.beta_func(inp)\n",
    "#         tf.print(tf.shape(alphas))\n",
    "#         tf.print(y_true)\n",
    "        a_ans = tf.gather(alphas,axis=-1, indices = tf.cast(y_true,'int32'), batch_dims = 1)\n",
    "#         a_ans = alphas[:,y_true[-1]]\n",
    "#         tf.print(tf.shape(y_true))\n",
    "#         tf.print((tf.shape(a_ans)))\n",
    "#         tf.print((tf.expand_dims(a_ans,-1)-alphas))\n",
    "        a_zero = tf.math.reduce_sum(alphas,-1)\n",
    "        beta_zero = tf.math.reduce_sum(betas,-1)\n",
    "#         tf.print(tf.shape(a_zero))\n",
    "        \n",
    "        l1_loss = tf.math.digamma(a_ans) - tf.math.digamma(a_zero)\n",
    "#         l1_loss = tf.math.log(a_ans) - tf.math.log(a_zero)\n",
    "#         tf.print((l1_loss))\n",
    "\n",
    "        loss1 = tf.math.lgamma(a_zero) - tf.math.reduce_sum(tf.math.lgamma(alphas), -1)\n",
    "        loss1 += -tf.math.lgamma(beta_zero) + tf.math.reduce_sum(tf.math.lgamma(betas), -1)\n",
    "        loss2 = tf.math.reduce_sum((alphas - betas)*(tf.math.digamma(alphas) - tf.math.digamma(tf.expand_dims(a_zero,-1))),-1)\n",
    "\n",
    "#         print(tf.shape(loss1))\n",
    "#         print(tf.shape(loss2))\n",
    "        kl_loss = loss1 + loss2\n",
    "#         print((kl_loss))\n",
    "\n",
    "        loss = tf.math.reduce_mean(self.coeff*kl_loss - l1_loss)\n",
    "#         print((loss))\n",
    "        return loss"
   ]
  },
  {
   "cell_type": "code",
   "execution_count": 18,
   "id": "72db3f1b",
   "metadata": {},
   "outputs": [],
   "source": [
    "X,Y = generate_data(\n",
    "    xlim = [-1,1],\n",
    "    ylim = [-1,1], \n",
    "    n_point_per_axis = [20,10], \n",
    "    lenth_per_slab = 0.4, \n",
    "    width_per_slab = 0.2, \n",
    "    gap_to_edge_1 = [0.1,0.15],\n",
    "    gap_to_edge_2 = [0.1, 0.5],\n",
    "    n_slab1 = 3, \n",
    "    n_slab2 = 2,\n",
    ")\n",
    "Y = tf.cast(Y,'int32')"
   ]
  },
  {
   "cell_type": "code",
   "execution_count": 19,
   "id": "4ff71cae",
   "metadata": {},
   "outputs": [
    {
     "data": {
      "image/png": "[encoded data removed]",
      "text/plain": [
       "<Figure size 640x480 with 1 Axes>"
      ]
     },
     "metadata": {},
     "output_type": "display_data"
    },
    {
     "data": {
      "text/plain": [
       "<tf.Tensor: shape=(40000, 2), dtype=float32, numpy=\n",
       "array([[  4.3932014,  -3.9207113],\n",
       "       [  4.4068456,  -3.908258 ],\n",
       "       [  4.4204874,  -3.8958054],\n",
       "       ...,\n",
       "       [-75.23697  ,  17.617271 ],\n",
       "       [-75.50673  ,  17.677597 ],\n",
       "       [-75.77645  ,  17.737923 ]], dtype=float32)>"
      ]
     },
     "execution_count": 19,
     "metadata": {},
     "output_type": "execute_result"
    }
   ],
   "source": [
    "\n",
    "def x2_direction(inp):\n",
    "    batch_size = tf.shape(inp)[0]\n",
    "    result = tf.zeros((batch_size, 2), dtype=tf.float32)\n",
    "    for i in range(batch_size):\n",
    "        x = inp[i, 1]\n",
    "        if (x<0.85 and 0.65<x) or ( x < 0.1 and -0.1 < x) or (x<-0.65 and -0.85<x):\n",
    "            result = tf.tensor_scatter_nd_update(result, [[i, 0], [i, 1]], [10, 0.0])\n",
    "        elif (x<0.55 and 0.35<x) or (x < -0.3 and -0.5 < x):\n",
    "            result = tf.tensor_scatter_nd_update(result, [[i, 0], [i, 1]], [0.0, 10])\n",
    "        else:\n",
    "            result = tf.tensor_scatter_nd_update(result, [[i, 0], [i, 1]], [0.1, 0.1])\n",
    "\n",
    "\n",
    "    return result\n",
    "    \n",
    "prior_exp(x2_direction)"
   ]
  },
  {
   "cell_type": "code",
   "execution_count": null,
   "id": "36589479",
   "metadata": {},
   "outputs": [],
   "source": []
  }
 ],
 "metadata": {
  "kernelspec": {
   "display_name": "Python 3 (ipykernel)",
   "language": "python",
   "name": "python3"
  },
  "language_info": {
   "codemirror_mode": {
    "name": "ipython",
    "version": 3
   },
   "file_extension": ".py",
   "mimetype": "text/x-python",
   "name": "python",
   "nbconvert_exporter": "python",
   "pygments_lexer": "ipython3",
   "version": "3.7.15"
  }
 },
 "nbformat": 4,
 "nbformat_minor": 5
}
